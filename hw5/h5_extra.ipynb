{
 "cells": [
  {
   "cell_type": "code",
   "execution_count": 0,
   "metadata": {
    "colab": {
     "autoexec": {
      "startup": false,
      "wait_interval": 0
     }
    },
    "colab_type": "code",
    "collapsed": true,
    "id": "k9UUMzcWO6I0"
   },
   "outputs": [],
   "source": [
    "from keras.models import Sequential"
   ]
  },
  {
   "cell_type": "code",
   "execution_count": 0,
   "metadata": {
    "colab": {
     "autoexec": {
      "startup": false,
      "wait_interval": 0
     }
    },
    "colab_type": "code",
    "collapsed": true,
    "id": "CudQ0M__PdZm"
   },
   "outputs": [],
   "source": [
    "from keras.layers import Dense, Activation\n"
   ]
  },
  {
   "cell_type": "code",
   "execution_count": 0,
   "metadata": {
    "colab": {
     "autoexec": {
      "startup": false,
      "wait_interval": 0
     }
    },
    "colab_type": "code",
    "collapsed": true,
    "id": "XHn6Rm1hPfs6"
   },
   "outputs": [],
   "source": []
  },
  {
   "cell_type": "code",
   "execution_count": 0,
   "metadata": {
    "colab": {
     "autoexec": {
      "startup": false,
      "wait_interval": 0
     }
    },
    "colab_type": "code",
    "collapsed": true,
    "id": "JhtAxROVPy2c"
   },
   "outputs": [],
   "source": []
  },
  {
   "cell_type": "code",
   "execution_count": 0,
   "metadata": {
    "colab": {
     "autoexec": {
      "startup": false,
      "wait_interval": 0
     }
    },
    "colab_type": "code",
    "collapsed": true,
    "id": "vSUUnLDaQAnR"
   },
   "outputs": [],
   "source": []
  },
  {
   "cell_type": "code",
   "execution_count": null,
   "metadata": {
    "colab": {
     "autoexec": {
      "startup": false,
      "wait_interval": 0
     },
     "base_uri": "https://localhost:8080/",
     "height": 374,
     "output_extras": [
      {
       "item_id": 7
      },
      {
       "item_id": 8
      }
     ]
    },
    "colab_type": "code",
    "collapsed": true,
    "executionInfo": {
     "elapsed": 1780,
     "status": "ok",
     "timestamp": 1521918160836,
     "user": {
      "displayName": "Conghua Qiu",
      "photoUrl": "https://lh3.googleusercontent.com/a/default-user=s128",
      "userId": "112091674857321609604"
     },
     "user_tz": 300
    },
    "id": "XULak-0xQGEC",
    "outputId": "4dfb7e91-c659-4446-ab13-1f9d05210d1a"
   },
   "outputs": [],
   "source": []
  },
  {
   "cell_type": "code",
   "execution_count": 0,
   "metadata": {
    "colab": {
     "autoexec": {
      "startup": false,
      "wait_interval": 0
     }
    },
    "colab_type": "code",
    "collapsed": true,
    "id": "YAnAqiEGQpM_"
   },
   "outputs": [],
   "source": []
  },
  {
   "cell_type": "code",
   "execution_count": 34,
   "metadata": {
    "colab": {
     "autoexec": {
      "startup": false,
      "wait_interval": 0
     },
     "base_uri": "https://localhost:8080/",
     "height": 204,
     "output_extras": [
      {
       "item_id": 1
      }
     ]
    },
    "colab_type": "code",
    "executionInfo": {
     "elapsed": 278,
     "status": "ok",
     "timestamp": 1521918161436,
     "user": {
      "displayName": "Conghua Qiu",
      "photoUrl": "https://lh3.googleusercontent.com/a/default-user=s128",
      "userId": "112091674857321609604"
     },
     "user_tz": 300
    },
    "id": "O5sel5sOROD6",
    "outputId": "64df0c40-8dc1-46bb-e375-6387d57e097e"
   },
   "outputs": [
    {
     "name": "stdout",
     "output_type": "stream",
     "text": [
      "_________________________________________________________________\n",
      "Layer (type)                 Output Shape              Param #   \n",
      "=================================================================\n",
      "dense_8 (Dense)              (None, 32)                3232      \n",
      "_________________________________________________________________\n",
      "dense_9 (Dense)              (None, 1)                 33        \n",
      "=================================================================\n",
      "Total params: 3,265\n",
      "Trainable params: 3,265\n",
      "Non-trainable params: 0\n",
      "_________________________________________________________________\n"
     ]
    }
   ],
   "source": []
  },
  {
   "cell_type": "code",
   "execution_count": 0,
   "metadata": {
    "colab": {
     "autoexec": {
      "startup": false,
      "wait_interval": 0
     }
    },
    "colab_type": "code",
    "collapsed": true,
    "id": "8exdRtzbRcy-"
   },
   "outputs": [],
   "source": [
    "import keras\n",
    "from keras.layers import Dropout\n",
    "from keras.optimizers import SGD"
   ]
  },
  {
   "cell_type": "code",
   "execution_count": 36,
   "metadata": {
    "colab": {
     "autoexec": {
      "startup": false,
      "wait_interval": 0
     },
     "base_uri": "https://localhost:8080/",
     "height": 374,
     "output_extras": [
      {
       "item_id": 3
      },
      {
       "item_id": 4
      }
     ]
    },
    "colab_type": "code",
    "executionInfo": {
     "elapsed": 1124,
     "status": "ok",
     "timestamp": 1521918162879,
     "user": {
      "displayName": "Conghua Qiu",
      "photoUrl": "https://lh3.googleusercontent.com/a/default-user=s128",
      "userId": "112091674857321609604"
     },
     "user_tz": 300
    },
    "id": "Y3x4QGfXU5A3",
    "outputId": "284b9e38-47c0-4fe1-ced1-79e0b1012d52"
   },
   "outputs": [
    {
     "name": "stdout",
     "output_type": "stream",
     "text": [
      "Epoch 1/10\n",
      "1000/1000 [==============================] - 0s 197us/step - loss: 2.4149 - acc: 0.0930\n",
      "Epoch 2/10\n",
      "1000/1000 [==============================] - 0s 42us/step - loss: 2.3580 - acc: 0.1110\n",
      "Epoch 3/10\n",
      "1000/1000 [==============================] - 0s 43us/step - loss: 2.3303 - acc: 0.1160\n",
      "Epoch 4/10\n",
      "1000/1000 [==============================] - 0s 38us/step - loss: 2.3354 - acc: 0.0970\n",
      "Epoch 5/10\n",
      "1000/1000 [==============================] - 0s 43us/step - loss: 2.3154 - acc: 0.1020\n",
      "Epoch 6/10\n",
      "1000/1000 [==============================] - 0s 39us/step - loss: 2.3142 - acc: 0.1090\n",
      "Epoch 7/10\n",
      "1000/1000 [==============================] - 0s 44us/step - loss: 2.3013 - acc: 0.0990\n",
      "Epoch 8/10\n",
      "1000/1000 [==============================] - 0s 39us/step - loss: 2.3092 - acc: 0.1090\n",
      "Epoch 9/10\n",
      "1000/1000 [==============================] - 0s 44us/step - loss: 2.3052 - acc: 0.1030\n",
      "Epoch 10/10\n",
      "1000/1000 [==============================] - 0s 37us/step - loss: 2.3036 - acc: 0.1050\n"
     ]
    },
    {
     "data": {
      "text/plain": [
       "<keras.callbacks.History at 0x7fc9988a1080>"
      ]
     },
     "execution_count": 36,
     "metadata": {
      "tags": []
     },
     "output_type": "execute_result"
    }
   ],
   "source": []
  },
  {
   "cell_type": "code",
   "execution_count": 37,
   "metadata": {
    "colab": {
     "autoexec": {
      "startup": false,
      "wait_interval": 0
     },
     "base_uri": "https://localhost:8080/",
     "height": 34,
     "output_extras": [
      {
       "item_id": 1
      }
     ]
    },
    "colab_type": "code",
    "executionInfo": {
     "elapsed": 223,
     "status": "ok",
     "timestamp": 1521918163123,
     "user": {
      "displayName": "Conghua Qiu",
      "photoUrl": "https://lh3.googleusercontent.com/a/default-user=s128",
      "userId": "112091674857321609604"
     },
     "user_tz": 300
    },
    "id": "17X_6eN_Vdcj",
    "outputId": "844fdfe5-4974-4fc3-fa62-e2733384f48d"
   },
   "outputs": [
    {
     "name": "stdout",
     "output_type": "stream",
     "text": [
      "\r",
      "100/100 [==============================] - 0s 542us/step\n"
     ]
    }
   ],
   "source": []
  },
  {
   "cell_type": "code",
   "execution_count": 38,
   "metadata": {
    "colab": {
     "autoexec": {
      "startup": false,
      "wait_interval": 0
     },
     "base_uri": "https://localhost:8080/",
     "height": 34,
     "output_extras": [
      {
       "item_id": 1
      }
     ]
    },
    "colab_type": "code",
    "executionInfo": {
     "elapsed": 277,
     "status": "ok",
     "timestamp": 1521918163432,
     "user": {
      "displayName": "Conghua Qiu",
      "photoUrl": "https://lh3.googleusercontent.com/a/default-user=s128",
      "userId": "112091674857321609604"
     },
     "user_tz": 300
    },
    "id": "yoc0Y9buViKG",
    "outputId": "58254b6e-55ae-45f4-a2cf-7a66097aed99"
   },
   "outputs": [
    {
     "data": {
      "text/plain": [
       "[2.307922124862671, 0.05999999865889549]"
      ]
     },
     "execution_count": 38,
     "metadata": {
      "tags": []
     },
     "output_type": "execute_result"
    }
   ],
   "source": []
  },
  {
   "cell_type": "code",
   "execution_count": 39,
   "metadata": {
    "colab": {
     "autoexec": {
      "startup": false,
      "wait_interval": 0
     },
     "base_uri": "https://localhost:8080/",
     "height": 306,
     "output_extras": [
      {
       "item_id": 1
      }
     ]
    },
    "colab_type": "code",
    "executionInfo": {
     "elapsed": 251,
     "status": "ok",
     "timestamp": 1521918163727,
     "user": {
      "displayName": "Conghua Qiu",
      "photoUrl": "https://lh3.googleusercontent.com/a/default-user=s128",
      "userId": "112091674857321609604"
     },
     "user_tz": 300
    },
    "id": "W-dQsEBIVjiW",
    "outputId": "87d4f66f-019f-4f27-c45f-01b064694cab"
   },
   "outputs": [
    {
     "name": "stdout",
     "output_type": "stream",
     "text": [
      "_________________________________________________________________\n",
      "Layer (type)                 Output Shape              Param #   \n",
      "=================================================================\n",
      "dense_10 (Dense)             (None, 64)                1344      \n",
      "_________________________________________________________________\n",
      "dropout_3 (Dropout)          (None, 64)                0         \n",
      "_________________________________________________________________\n",
      "dense_11 (Dense)             (None, 64)                4160      \n",
      "_________________________________________________________________\n",
      "dropout_4 (Dropout)          (None, 64)                0         \n",
      "_________________________________________________________________\n",
      "dense_12 (Dense)             (None, 10)                650       \n",
      "=================================================================\n",
      "Total params: 6,154\n",
      "Trainable params: 6,154\n",
      "Non-trainable params: 0\n",
      "_________________________________________________________________\n"
     ]
    }
   ],
   "source": []
  },
  {
   "cell_type": "code",
   "execution_count": 41,
   "metadata": {
    "colab": {
     "autoexec": {
      "startup": false,
      "wait_interval": 0
     },
     "base_uri": "https://localhost:8080/",
     "height": 68,
     "output_extras": [
      {
       "item_id": 2
      }
     ]
    },
    "colab_type": "code",
    "executionInfo": {
     "elapsed": 3300,
     "status": "ok",
     "timestamp": 1521918253656,
     "user": {
      "displayName": "Conghua Qiu",
      "photoUrl": "https://lh3.googleusercontent.com/a/default-user=s128",
      "userId": "112091674857321609604"
     },
     "user_tz": 300
    },
    "id": "WPIk4UZEVxOr",
    "outputId": "ac9fea2e-4f99-4d0d-dbfc-ecde52ad647d"
   },
   "outputs": [
    {
     "name": "stdout",
     "output_type": "stream",
     "text": [
      "Requirement already satisfied: pydot in /usr/local/lib/python3.6/dist-packages\r\n",
      "Requirement already satisfied: pyparsing>=2.1.4 in /usr/local/lib/python3.6/dist-packages (from pydot)\n",
      "Requirement already satisfied: graphviz in /usr/local/lib/python3.6/dist-packages\n"
     ]
    }
   ],
   "source": []
  },
  {
   "cell_type": "code",
   "execution_count": 42,
   "metadata": {
    "colab": {
     "autoexec": {
      "startup": false,
      "wait_interval": 0
     },
     "base_uri": "https://localhost:8080/",
     "height": 204,
     "output_extras": [
      {
       "item_id": 2
      }
     ]
    },
    "colab_type": "code",
    "executionInfo": {
     "elapsed": 775,
     "status": "ok",
     "timestamp": 1521918495491,
     "user": {
      "displayName": "Conghua Qiu",
      "photoUrl": "https://lh3.googleusercontent.com/a/default-user=s128",
      "userId": "112091674857321609604"
     },
     "user_tz": 300
    },
    "id": "Tgvss5KzWEL9",
    "outputId": "f56b81f1-cade-40bd-8c8f-101cdaf0ffd3"
   },
   "outputs": [
    {
     "name": "stdout",
     "output_type": "stream",
     "text": [
      "--2018-03-24 19:08:14--  https://github.com/JobQiu/selfImplementML/blob/master/Archive.zip\r\n",
      "Resolving github.com (github.com)... 192.30.253.113, 192.30.253.112\r\n",
      "Connecting to github.com (github.com)|192.30.253.113|:443... connected.\n",
      "HTTP request sent, awaiting response... 200 OK\n",
      "Length: unspecified [text/html]\n",
      "Saving to: ‘Archive.zip’\n",
      "\n",
      "Archive.zip             [ <=>                ]  30.80K  --.-KB/s    in 0.01s   \n",
      "\n",
      "2018-03-24 19:08:15 (2.47 MB/s) - ‘Archive.zip’ saved [31543]\n",
      "\n"
     ]
    }
   ],
   "source": [
    "!wget https://github.com/JobQiu/selfImplementML/blob/master/Archive.zip"
   ]
  },
  {
   "cell_type": "code",
   "execution_count": 49,
   "metadata": {
    "colab": {
     "autoexec": {
      "startup": false,
      "wait_interval": 0
     },
     "base_uri": "https://localhost:8080/",
     "height": 357,
     "output_extras": [
      {
       "item_id": 3
      }
     ]
    },
    "colab_type": "code",
    "executionInfo": {
     "elapsed": 902,
     "status": "ok",
     "timestamp": 1521918668730,
     "user": {
      "displayName": "Conghua Qiu",
      "photoUrl": "https://lh3.googleusercontent.com/a/default-user=s128",
      "userId": "112091674857321609604"
     },
     "user_tz": 300
    },
    "id": "E0tNKxx2aUfJ",
    "outputId": "5f6dcbdf-43b7-4e0c-fa89-5575271ffd7b"
   },
   "outputs": [
    {
     "name": "stdout",
     "output_type": "stream",
     "text": [
      "--2018-03-24 19:11:08--  https://github.com/JobQiu/selfImplementML/blob/master/Archive.zip?raw=true\r\n",
      "Resolving github.com (github.com)... 192.30.253.112, 192.30.253.113\r\n",
      "Connecting to github.com (github.com)|192.30.253.112|:443... connected.\n",
      "HTTP request sent, awaiting response... 302 Found\n",
      "Location: https://github.com/JobQiu/selfImplementML/raw/master/Archive.zip [following]\n",
      "--2018-03-24 19:11:08--  https://github.com/JobQiu/selfImplementML/raw/master/Archive.zip\n",
      "Reusing existing connection to github.com:443.\n",
      "HTTP request sent, awaiting response... 302 Found\n",
      "Location: https://raw.githubusercontent.com/JobQiu/selfImplementML/master/Archive.zip [following]\n",
      "--2018-03-24 19:11:08--  https://raw.githubusercontent.com/JobQiu/selfImplementML/master/Archive.zip\n",
      "Resolving raw.githubusercontent.com (raw.githubusercontent.com)... 151.101.0.133, 151.101.64.133, 151.101.128.133, ...\n",
      "Connecting to raw.githubusercontent.com (raw.githubusercontent.com)|151.101.0.133|:443... connected.\n",
      "HTTP request sent, awaiting response... 200 OK\n",
      "Length: 1145434 (1.1M) [application/zip]\n",
      "Saving to: ‘Archive.zip?raw=true’\n",
      "\n",
      "Archive.zip?raw=tru 100%[===================>]   1.09M  --.-KB/s    in 0.1s    \n",
      "\n",
      "2018-03-24 19:11:08 (7.63 MB/s) - ‘Archive.zip?raw=true’ saved [1145434/1145434]\n",
      "\n"
     ]
    }
   ],
   "source": [
    "!wget https://github.com/JobQiu/selfImplementML/blob/master/Archive.zip?raw=true"
   ]
  },
  {
   "cell_type": "code",
   "execution_count": 50,
   "metadata": {
    "colab": {
     "autoexec": {
      "startup": false,
      "wait_interval": 0
     },
     "base_uri": "https://localhost:8080/",
     "height": 748,
     "output_extras": [
      {
       "item_id": 1
      }
     ]
    },
    "colab_type": "code",
    "executionInfo": {
     "elapsed": 536,
     "status": "ok",
     "timestamp": 1521918679012,
     "user": {
      "displayName": "Conghua Qiu",
      "photoUrl": "https://lh3.googleusercontent.com/a/default-user=s128",
      "userId": "112091674857321609604"
     },
     "user_tz": 300
    },
    "id": "3cro-OmbaYFZ",
    "outputId": "cd503e77-b958-4af0-9d68-dc90afdf5fc4"
   },
   "outputs": [
    {
     "name": "stdout",
     "output_type": "stream",
     "text": [
      "Archive:  Archive.zip?raw=true\r\n",
      "  inflating: ConvolutionalNetworks.ipynb  \r\n",
      "  inflating: Dropout.ipynb           \r\n",
      "  inflating: FullyConnectedNets.ipynb  \r\n",
      "   creating: __MACOSX/\r\n",
      "  inflating: __MACOSX/._fast_layers.pyc  \r\n",
      "  inflating: __MACOSX/._fc_net3.py   \r\n",
      "  inflating: __MACOSX/._fc_net_h.py  \r\n",
      "  inflating: __MACOSX/._hw5.pdf      \r\n",
      "  inflating: __MACOSX/._layers_h.py  \r\n",
      "  inflating: cnn.py                  \r\n",
      "  inflating: cnn.pyc                 \r\n",
      "  inflating: data_utils.py           \r\n",
      "  inflating: data_utils.pyc          \r\n",
      "  inflating: fast_layers.py          \r\n",
      "  inflating: fast_layers.pyc         \r\n",
      "  inflating: fc_net.py               \r\n",
      "  inflating: fc_net.pyc              \r\n",
      "  inflating: fc_net3.py              \r\n",
      "  inflating: fc_net_h.py             \r\n",
      "  inflating: gradient_check.py       \r\n",
      "  inflating: gradient_check.pyc      \r\n",
      "  inflating: hw5.pdf                 \r\n",
      "  inflating: im2col.py               \r\n",
      "  inflating: im2col.pyc              \r\n",
      "  inflating: im2col_cython.c         \r\n",
      "  inflating: im2col_cython.cpython-36m-darwin.so  \r\n",
      "  inflating: im2col_cython.pyx       \r\n",
      "  inflating: im2col_cython.so        \r\n",
      "  inflating: kitten.jpg              \r\n",
      "  inflating: layer_utils.py          \r\n",
      "  inflating: layer_utils.pyc         \r\n",
      "  inflating: layers.py               \r\n",
      "  inflating: layers.pyc              \r\n",
      "  inflating: layers_h.py             \r\n",
      "  inflating: optim.py                \r\n",
      "  inflating: optim.pyc               \r\n",
      "  inflating: puppy.jpg               \r\n",
      "  inflating: setup.py                \r\n",
      "  inflating: solver.py               \r\n",
      "  inflating: solver.pyc              \r\n",
      "  inflating: vis_utils.py            \r\n",
      "  inflating: vis_utils.pyc           \r\n"
     ]
    }
   ],
   "source": [
    "!unzip Archive.zip\\?raw\\=true"
   ]
  },
  {
   "cell_type": "code",
   "execution_count": 51,
   "metadata": {
    "colab": {
     "autoexec": {
      "startup": false,
      "wait_interval": 0
     },
     "base_uri": "https://localhost:8080/",
     "height": 357,
     "output_extras": [
      {
       "item_id": 1
      }
     ]
    },
    "colab_type": "code",
    "executionInfo": {
     "elapsed": 517,
     "status": "ok",
     "timestamp": 1521918683850,
     "user": {
      "displayName": "Conghua Qiu",
      "photoUrl": "https://lh3.googleusercontent.com/a/default-user=s128",
      "userId": "112091674857321609604"
     },
     "user_tz": 300
    },
    "id": "-TnIJhaDaaAQ",
    "outputId": "d5a97723-fb51-4d33-954d-e986b4cd4a7f"
   },
   "outputs": [
    {
     "name": "stdout",
     "output_type": "stream",
     "text": [
      "Archive.zip?raw=true\t\t     im2col_cython.pyx\r\n",
      "cnn.py\t\t\t\t     im2col_cython.so\r\n",
      "cnn.pyc\t\t\t\t     im2col.py\r\n",
      "ConvolutionalNetworks.ipynb\t     im2col.pyc\r\n",
      "datalab\t\t\t\t     kitten.jpg\r\n",
      "data_utils.py\t\t\t     layers_h.py\r\n",
      "data_utils.pyc\t\t\t     layers.py\r\n",
      "Dropout.ipynb\t\t\t     layers.pyc\r\n",
      "fast_layers.py\t\t\t     layer_utils.py\r\n",
      "fast_layers.pyc\t\t\t     layer_utils.pyc\r\n",
      "fc_net3.py\t\t\t     __MACOSX\r\n",
      "fc_net_h.py\t\t\t     optim.py\r\n",
      "fc_net.py\t\t\t     optim.pyc\r\n",
      "fc_net.pyc\t\t\t     puppy.jpg\r\n",
      "FullyConnectedNets.ipynb\t     setup.py\r\n",
      "gradient_check.py\t\t     solver.py\r\n",
      "gradient_check.pyc\t\t     solver.pyc\r\n",
      "hw5.pdf\t\t\t\t     test.h5\r\n",
      "im2col_cython.c\t\t\t     vis_utils.py\r\n",
      "im2col_cython.cpython-36m-darwin.so  vis_utils.pyc\r\n"
     ]
    }
   ],
   "source": [
    "!ls\n"
   ]
  },
  {
   "cell_type": "code",
   "execution_count": 0,
   "metadata": {
    "colab": {
     "autoexec": {
      "startup": false,
      "wait_interval": 0
     }
    },
    "colab_type": "code",
    "collapsed": true,
    "id": "dw5zmCAXbCiP"
   },
   "outputs": [],
   "source": [
    "import os\n",
    "!mkdir datasets"
   ]
  },
  {
   "cell_type": "code",
   "execution_count": 53,
   "metadata": {
    "colab": {
     "autoexec": {
      "startup": false,
      "wait_interval": 0
     },
     "base_uri": "https://localhost:8080/",
     "height": 374,
     "output_extras": [
      {
       "item_id": 1
      }
     ]
    },
    "colab_type": "code",
    "executionInfo": {
     "elapsed": 452,
     "status": "ok",
     "timestamp": 1521918722709,
     "user": {
      "displayName": "Conghua Qiu",
      "photoUrl": "https://lh3.googleusercontent.com/a/default-user=s128",
      "userId": "112091674857321609604"
     },
     "user_tz": 300
    },
    "id": "FUroCvprbK6t",
    "outputId": "0b4d39f5-e42f-4ac4-9311-322fce5b9636"
   },
   "outputs": [
    {
     "name": "stdout",
     "output_type": "stream",
     "text": [
      "Archive.zip?raw=true\t\t     im2col_cython.pyx\r\n",
      "cnn.py\t\t\t\t     im2col_cython.so\r\n",
      "cnn.pyc\t\t\t\t     im2col.py\r\n",
      "ConvolutionalNetworks.ipynb\t     im2col.pyc\r\n",
      "datalab\t\t\t\t     kitten.jpg\r\n",
      "datasets\t\t\t     layers_h.py\r\n",
      "data_utils.py\t\t\t     layers.py\r\n",
      "data_utils.pyc\t\t\t     layers.pyc\r\n",
      "Dropout.ipynb\t\t\t     layer_utils.py\r\n",
      "fast_layers.py\t\t\t     layer_utils.pyc\r\n",
      "fast_layers.pyc\t\t\t     __MACOSX\r\n",
      "fc_net3.py\t\t\t     optim.py\r\n",
      "fc_net_h.py\t\t\t     optim.pyc\r\n",
      "fc_net.py\t\t\t     puppy.jpg\r\n",
      "fc_net.pyc\t\t\t     setup.py\r\n",
      "FullyConnectedNets.ipynb\t     solver.py\r\n",
      "gradient_check.py\t\t     solver.pyc\r\n",
      "gradient_check.pyc\t\t     test.h5\r\n",
      "hw5.pdf\t\t\t\t     vis_utils.py\r\n",
      "im2col_cython.c\t\t\t     vis_utils.pyc\r\n",
      "im2col_cython.cpython-36m-darwin.so\r\n"
     ]
    }
   ],
   "source": [
    "!ls"
   ]
  },
  {
   "cell_type": "code",
   "execution_count": 0,
   "metadata": {
    "colab": {
     "autoexec": {
      "startup": false,
      "wait_interval": 0
     }
    },
    "colab_type": "code",
    "collapsed": true,
    "id": "VupElMLqbMCd"
   },
   "outputs": [],
   "source": [
    "os.chdir('datasets')"
   ]
  },
  {
   "cell_type": "code",
   "execution_count": 55,
   "metadata": {
    "colab": {
     "autoexec": {
      "startup": false,
      "wait_interval": 0
     },
     "base_uri": "https://localhost:8080/",
     "height": 204,
     "output_extras": [
      {
       "item_id": 2
      }
     ]
    },
    "colab_type": "code",
    "executionInfo": {
     "elapsed": 538,
     "status": "ok",
     "timestamp": 1521918742181,
     "user": {
      "displayName": "Conghua Qiu",
      "photoUrl": "https://lh3.googleusercontent.com/a/default-user=s128",
      "userId": "112091674857321609604"
     },
     "user_tz": 300
    },
    "id": "-asSInRnbO2c",
    "outputId": "25ea77f0-8ecb-40ab-ea48-699cd448aa78"
   },
   "outputs": [
    {
     "name": "stdout",
     "output_type": "stream",
     "text": [
      "--2018-03-24 19:12:21--  https://raw.githubusercontent.com/JobQiu/selfImplementML/master/get_datasets.sh\r\n",
      "Resolving raw.githubusercontent.com (raw.githubusercontent.com)... 151.101.0.133, 151.101.64.133, 151.101.128.133, ...\r\n",
      "Connecting to raw.githubusercontent.com (raw.githubusercontent.com)|151.101.0.133|:443... connected.\n",
      "HTTP request sent, awaiting response... 200 OK\n",
      "Length: 198 [text/plain]\n",
      "Saving to: ‘get_datasets.sh’\n",
      "\n",
      "get_datasets.sh     100%[===================>]     198  --.-KB/s    in 0s      \n",
      "\n",
      "2018-03-24 19:12:21 (44.6 MB/s) - ‘get_datasets.sh’ saved [198/198]\n",
      "\n"
     ]
    }
   ],
   "source": [
    "!wget https://raw.githubusercontent.com/JobQiu/selfImplementML/master/get_datasets.sh"
   ]
  },
  {
   "cell_type": "code",
   "execution_count": 56,
   "metadata": {
    "colab": {
     "autoexec": {
      "startup": false,
      "wait_interval": 0
     },
     "base_uri": "https://localhost:8080/",
     "height": 34,
     "output_extras": [
      {
       "item_id": 1
      }
     ]
    },
    "colab_type": "code",
    "executionInfo": {
     "elapsed": 516,
     "status": "ok",
     "timestamp": 1521918751318,
     "user": {
      "displayName": "Conghua Qiu",
      "photoUrl": "https://lh3.googleusercontent.com/a/default-user=s128",
      "userId": "112091674857321609604"
     },
     "user_tz": 300
    },
    "id": "zaQ6nnnSbQxU",
    "outputId": "4f905824-3d3a-4ca4-c4dd-6b5429a47b07"
   },
   "outputs": [
    {
     "name": "stdout",
     "output_type": "stream",
     "text": [
      "/bin/sh: 1: ./get_datasets.sh: Permission denied\r\n"
     ]
    }
   ],
   "source": [
    "!./get_datasets.sh"
   ]
  },
  {
   "cell_type": "code",
   "execution_count": 57,
   "metadata": {
    "colab": {
     "autoexec": {
      "startup": false,
      "wait_interval": 0
     },
     "base_uri": "https://localhost:8080/",
     "height": 221,
     "output_extras": [
      {
       "item_id": 45
      }
     ]
    },
    "colab_type": "code",
    "executionInfo": {
     "elapsed": 40816,
     "status": "ok",
     "timestamp": 1521918811276,
     "user": {
      "displayName": "Conghua Qiu",
      "photoUrl": "https://lh3.googleusercontent.com/a/default-user=s128",
      "userId": "112091674857321609604"
     },
     "user_tz": 300
    },
    "id": "NU70QAjVbTAk",
    "outputId": "5ffa15ee-d055-4f5c-e3ec-fbb8f5763123"
   },
   "outputs": [
    {
     "name": "stdout",
     "output_type": "stream",
     "text": [
      "  % Total    % Received % Xferd  Average Speed   Time    Time     Time  Current\r\n",
      "                                 Dload  Upload   Total   Spent    Left  Speed\n",
      "100  162M  100  162M    0     0  4500k      0  0:00:37  0:00:37 --:--:-- 5581k\n",
      "cifar-10-batches-py/\n",
      "cifar-10-batches-py/data_batch_4\n",
      "cifar-10-batches-py/readme.html\n",
      "cifar-10-batches-py/test_batch\n",
      "cifar-10-batches-py/data_batch_3\n",
      "cifar-10-batches-py/batches.meta\n",
      "cifar-10-batches-py/data_batch_2\n",
      "cifar-10-batches-py/data_batch_5\n",
      "cifar-10-batches-py/data_batch_1\n"
     ]
    }
   ],
   "source": [
    "!curl -O http://www.cs.toronto.edu/~kriz/cifar-10-python.tar.gz\n",
    "!tar -xzvf cifar-10-python.tar.gz\n",
    "!rm cifar-10-python.tar.gz "
   ]
  },
  {
   "cell_type": "code",
   "execution_count": 0,
   "metadata": {
    "colab": {
     "autoexec": {
      "startup": false,
      "wait_interval": 0
     }
    },
    "colab_type": "code",
    "collapsed": true,
    "id": "DaawZT7GbXzq"
   },
   "outputs": [],
   "source": [
    "os.chdir(\"..\")"
   ]
  },
  {
   "cell_type": "code",
   "execution_count": 1,
   "metadata": {
    "colab": {
     "autoexec": {
      "startup": false,
      "wait_interval": 0
     },
     "base_uri": "https://localhost:8080/",
     "height": 68,
     "output_extras": [
      {
       "item_id": 1
      }
     ]
    },
    "colab_type": "code",
    "executionInfo": {
     "elapsed": 325,
     "status": "ok",
     "timestamp": 1521918970809,
     "user": {
      "displayName": "Conghua Qiu",
      "photoUrl": "https://lh3.googleusercontent.com/a/default-user=s128",
      "userId": "112091674857321609604"
     },
     "user_tz": 300
    },
    "id": "XZ3hREtgbkUQ",
    "outputId": "6d88fe97-8f1c-4f47-a905-e4e935ef11ec"
   },
   "outputs": [
    {
     "name": "stdout",
     "output_type": "stream",
     "text": [
      "run the following from the hw5 directory and try again:\n",
      "python setup.py build_ext --inplace\n",
      "You may also need to restart your iPython kernel\n"
     ]
    }
   ],
   "source": [
    "# As usual, a bit of setup\n",
    "\n",
    "import numpy as np\n",
    "import matplotlib.pyplot as plt\n",
    "from data_utils import get_CIFAR10_data\n",
    "from gradient_check import eval_numerical_gradient_array, eval_numerical_gradient\n",
    "from layers import *\n",
    "from fast_layers import *\n",
    "from solver import Solver\n",
    "\n",
    "%matplotlib inline\n",
    "plt.rcParams['figure.figsize'] = (10.0, 8.0) # set default size of plots\n",
    "plt.rcParams['image.interpolation'] = 'nearest'\n",
    "plt.rcParams['image.cmap'] = 'gray'\n",
    "\n",
    "# for auto-reloading external modules\n",
    "# see http://stackoverflow.com/questions/1907993/autoreload-of-modules-in-ipython\n",
    "%load_ext autoreload\n",
    "%autoreload 2\n",
    "\n",
    "def rel_error(x, y):\n",
    "  return np.max(np.abs(x - y) / (np.maximum(1e-8, np.abs(x) + np.abs(y))))"
   ]
  },
  {
   "cell_type": "code",
   "execution_count": 2,
   "metadata": {
    "colab": {
     "autoexec": {
      "startup": false,
      "wait_interval": 0
     },
     "base_uri": "https://localhost:8080/",
     "height": 119,
     "output_extras": [
      {
       "item_id": 1
      }
     ]
    },
    "colab_type": "code",
    "executionInfo": {
     "elapsed": 3295,
     "status": "ok",
     "timestamp": 1521919043861,
     "user": {
      "displayName": "Conghua Qiu",
      "photoUrl": "https://lh3.googleusercontent.com/a/default-user=s128",
      "userId": "112091674857321609604"
     },
     "user_tz": 300
    },
    "id": "-xASYENVb2xX",
    "outputId": "3cb876dd-c6a6-4380-d419-917fd5c949b4"
   },
   "outputs": [
    {
     "name": "stdout",
     "output_type": "stream",
     "text": [
      "X_val:  (1000, 3, 32, 32)\n",
      "X_train:  (49000, 3, 32, 32)\n",
      "X_test:  (1000, 3, 32, 32)\n",
      "y_val:  (1000,)\n",
      "y_train:  (49000,)\n",
      "y_test:  (1000,)\n"
     ]
    }
   ],
   "source": [
    "data = get_CIFAR10_data()\n",
    "for k, v in data.iteritems():\n",
    "  print '%s: ' % k, v.shape"
   ]
  },
  {
   "cell_type": "code",
   "execution_count": 3,
   "metadata": {
    "colab": {
     "autoexec": {
      "startup": false,
      "wait_interval": 0
     },
     "base_uri": "https://localhost:8080/",
     "height": 374,
     "output_extras": [
      {
       "item_id": 1
      }
     ]
    },
    "colab_type": "code",
    "executionInfo": {
     "elapsed": 572,
     "status": "ok",
     "timestamp": 1521919052942,
     "user": {
      "displayName": "Conghua Qiu",
      "photoUrl": "https://lh3.googleusercontent.com/a/default-user=s128",
      "userId": "112091674857321609604"
     },
     "user_tz": 300
    },
    "id": "yqRbTk8NcZwG",
    "outputId": "d3f8f6ea-b6ec-401f-b1ac-884593ff70a8"
   },
   "outputs": [
    {
     "name": "stdout",
     "output_type": "stream",
     "text": [
      "Archive.zip?raw=true\t\t     im2col_cython.pyx\r\n",
      "cnn.py\t\t\t\t     im2col_cython.so\r\n",
      "cnn.pyc\t\t\t\t     im2col.py\r\n",
      "ConvolutionalNetworks.ipynb\t     im2col.pyc\r\n",
      "datalab\t\t\t\t     kitten.jpg\r\n",
      "datasets\t\t\t     layers_h.py\r\n",
      "data_utils.py\t\t\t     layers.py\r\n",
      "data_utils.pyc\t\t\t     layers.pyc\r\n",
      "Dropout.ipynb\t\t\t     layer_utils.py\r\n",
      "fast_layers.py\t\t\t     layer_utils.pyc\r\n",
      "fast_layers.pyc\t\t\t     __MACOSX\r\n",
      "fc_net3.py\t\t\t     optim.py\r\n",
      "fc_net_h.py\t\t\t     optim.pyc\r\n",
      "fc_net.py\t\t\t     puppy.jpg\r\n",
      "fc_net.pyc\t\t\t     setup.py\r\n",
      "FullyConnectedNets.ipynb\t     solver.py\r\n",
      "gradient_check.py\t\t     solver.pyc\r\n",
      "gradient_check.pyc\t\t     test.h5\r\n",
      "hw5.pdf\t\t\t\t     vis_utils.py\r\n",
      "im2col_cython.c\t\t\t     vis_utils.pyc\r\n",
      "im2col_cython.cpython-36m-darwin.so\r\n"
     ]
    }
   ],
   "source": [
    "!ls"
   ]
  },
  {
   "cell_type": "code",
   "execution_count": 41,
   "metadata": {
    "colab": {
     "autoexec": {
      "startup": false,
      "wait_interval": 0
     },
     "base_uri": "https://localhost:8080/",
     "height": 204,
     "output_extras": [
      {
       "item_id": 321
      },
      {
       "item_id": 573
      }
     ]
    },
    "colab_type": "code",
    "executionInfo": {
     "elapsed": 149505,
     "status": "ok",
     "timestamp": 1521923221838,
     "user": {
      "displayName": "Conghua Qiu",
      "photoUrl": "https://lh3.googleusercontent.com/a/default-user=s128",
      "userId": "112091674857321609604"
     },
     "user_tz": 300
    },
    "id": "BJNCoN5iccod",
    "outputId": "2162906e-422f-4405-8a45-5381966d7526"
   },
   "outputs": [
    {
     "name": "stdout",
     "output_type": "stream",
     "text": [
      "Epoch 1/5\n",
      "164/164 [==============================] - 30s 184ms/step - loss: 2.9143 - acc: 0.2287 - val_loss: 1.7816 - val_acc: 0.3690\n",
      "Epoch 2/5\n",
      "164/164 [==============================] - 29s 176ms/step - loss: 1.8171 - acc: 0.3415 - val_loss: 1.5850 - val_acc: 0.4260\n",
      "Epoch 3/5\n",
      "135/164 [=======================>......] - ETA: 5s - loss: 1.6881 - acc: 0.3905164/164 [==============================] - 29s 177ms/step - loss: 1.6774 - acc: 0.3943 - val_loss: 1.4696 - val_acc: 0.4810\n",
      "Epoch 4/5\n",
      "164/164 [==============================] - 29s 177ms/step - loss: 1.5779 - acc: 0.4343 - val_loss: 1.3824 - val_acc: 0.4980\n",
      "Epoch 5/5\n",
      "164/164 [==============================] - 29s 179ms/step - loss: 1.5061 - acc: 0.4641 - val_loss: 1.3846 - val_acc: 0.5120\n",
      "1000/1000 [==============================] - 0s 396us/step\n"
     ]
    }
   ],
   "source": [
    "import numpy as np\n",
    "import keras\n",
    "from keras.models import Sequential\n",
    "from keras.layers import Dense, Dropout, Flatten\n",
    "from keras.layers import Conv2D, MaxPooling2D\n",
    "from keras.optimizers import SGD\n",
    "from keras.preprocessing.image import ImageDataGenerator\n",
    "\n",
    "def send_msg(msg=\"...\",\n",
    "             dingding_url = \"https://oapi.dingtalk.com/robot/send?access_token=67f442405a74c7f0115b5e9f63da890029c7a3a41c371f436e059f1f63497eef\"\n",
    "             ):\n",
    "    import requests\n",
    "    import json\n",
    "    headers = {\"Content-Type\": \"application/json; charset=utf-8\"}\n",
    "    \n",
    "    post_data = {\n",
    "        \"msgtype\": \"text\", \n",
    "        \"text\": {\n",
    "            \"content\": msg\n",
    "        }\n",
    "    }\n",
    "    \n",
    "    requests.post(dingding_url, headers=headers, \n",
    "            data=json.dumps(post_data))\n",
    "\n",
    "x_train = data['X_train']\n",
    "y_train = data['y_train']\n",
    "y_train = keras.utils.to_categorical(y_train, num_classes=10)\n",
    "x_test = data['X_test']\n",
    "y_test = data['y_test']\n",
    "y_test = keras.utils.to_categorical(y_test, num_classes=10)\n",
    "x_val = data['X_val']\n",
    "y_val = data['y_val']\n",
    "y_val = keras.utils.to_categorical(y_val, num_classes=10)\n",
    "x_train = np.swapaxes(x_train,1,3)\n",
    "x_test = np.swapaxes(x_test,1,3)\n",
    "x_val = np.swapaxes(x_val,1,3)\n",
    "\n",
    "model = Sequential()\n",
    "# input: 100x100 images with 3 channels -> (100, 100, 3) tensors.\n",
    "# this applies 32 convolution filters of size 3x3 each.\n",
    "model.add(Conv2D(32, (3, 3), activation='relu', input_shape=(32, 32, 3)))\n",
    "model.add(Conv2D(64, (3, 3), activation='relu'))\n",
    "model.add(Dropout(0.25))\n",
    "\n",
    "model.add(Conv2D(128, (3, 3), activation='relu'))\n",
    "model.add(Conv2D(64, (3, 3), activation='relu'))\n",
    "model.add(Dropout(0.25))\n",
    "\n",
    "model.add(Flatten())\n",
    "model.add(Dense(256, activation='relu'))\n",
    "model.add(Dropout(0.5))\n",
    "model.add(Dense(10, activation='softmax'))\n",
    "\n",
    "opt = keras.optimizers.rmsprop(lr=0.0002,decay=1e-6)\n",
    "model.compile(loss='categorical_crossentropy', optimizer=opt, metrics = ['accuracy'])\n",
    "datagen = ImageDataGenerator(\n",
    "        featurewise_center=False,  # set input mean to 0 over the dataset\n",
    "        samplewise_center=False,  # set each sample mean to 0\n",
    "        featurewise_std_normalization=False,  # divide inputs by std of the dataset\n",
    "        samplewise_std_normalization=False,  # divide each input by its std\n",
    "        zca_whitening=False,  # apply ZCA whitening\n",
    "        rotation_range=0,  # randomly rotate images in the range (degrees, 0 to 180)\n",
    "        width_shift_range=0.1,  # randomly shift images horizontally (fraction of total width)\n",
    "        height_shift_range=0.1,  # randomly shift images vertically (fraction of total height)\n",
    "        horizontal_flip=True,  # randomly flip images\n",
    "        vertical_flip=False)  # randomly flip images\n",
    "\n",
    "# Compute quantities required for feature-wise normalization\n",
    "# (std, mean, and principal components if ZCA whitening is applied).\n",
    "datagen.fit(x_train)\n",
    "model.fit_generator(datagen.flow(x_train, y_train,batch_size=300), epochs=5, validation_data=(x_val,y_val))\n",
    "score = model.evaluate(x_test, y_test, batch_size=32)\n",
    "send_msg(\"done\"+(str)(score))"
   ]
  },
  {
   "cell_type": "code",
   "execution_count": 42,
   "metadata": {
    "colab": {
     "autoexec": {
      "startup": false,
      "wait_interval": 0
     },
     "base_uri": "https://localhost:8080/",
     "height": 884,
     "output_extras": [
      {
       "item_id": 294
      },
      {
       "item_id": 554
      },
      {
       "item_id": 767
      },
      {
       "item_id": 1013
      },
      {
       "item_id": 1295
      },
      {
       "item_id": 1379
      },
      {
       "item_id": 1604
      },
      {
       "item_id": 1668
      },
      {
       "item_id": 1956
      },
      {
       "item_id": 2196
      }
     ]
    },
    "colab_type": "code",
    "executionInfo": {
     "elapsed": 736350,
     "status": "ok",
     "timestamp": 1521923968266,
     "user": {
      "displayName": "Conghua Qiu",
      "photoUrl": "https://lh3.googleusercontent.com/a/default-user=s128",
      "userId": "112091674857321609604"
     },
     "user_tz": 300
    },
    "id": "A9OyCfZhoAWy",
    "outputId": "73321bd5-76c7-4897-be2d-72d4529fd6ad"
   },
   "outputs": [
    {
     "name": "stdout",
     "output_type": "stream",
     "text": [
      "Epoch 1/25\n",
      "164/164 [==============================] - 31s 186ms/step - loss: 1.4119 - acc: 0.4934 - val_loss: 1.2888 - val_acc: 0.5580\n",
      "Epoch 2/25\n",
      "164/164 [==============================] - 29s 178ms/step - loss: 1.3785 - acc: 0.5104 - val_loss: 1.2292 - val_acc: 0.5630\n",
      "Epoch 3/25\n",
      "133/164 [=======================>......] - ETA: 5s - loss: 1.3576 - acc: 0.5171164/164 [==============================] - 29s 179ms/step - loss: 1.3546 - acc: 0.5181 - val_loss: 1.2499 - val_acc: 0.5640\n",
      "Epoch 4/25\n",
      "164/164 [==============================] - 29s 179ms/step - loss: 1.3266 - acc: 0.5301 - val_loss: 1.2190 - val_acc: 0.5620\n",
      "Epoch 5/25\n",
      "164/164 [==============================] - 29s 180ms/step - loss: 1.3105 - acc: 0.5351 - val_loss: 1.1986 - val_acc: 0.5790\n",
      "Epoch 6/25\n",
      "  9/164 [>.............................] - ETA: 26s - loss: 1.3336 - acc: 0.5226164/164 [==============================] - 29s 179ms/step - loss: 1.2906 - acc: 0.5418 - val_loss: 1.1980 - val_acc: 0.5860\n",
      "Epoch 7/25\n",
      "164/164 [==============================] - 29s 178ms/step - loss: 1.2710 - acc: 0.5498 - val_loss: 1.1996 - val_acc: 0.5790\n",
      "Epoch 8/25\n",
      "149/164 [==========================>...] - ETA: 2s - loss: 1.2527 - acc: 0.5572164/164 [==============================] - 29s 178ms/step - loss: 1.2530 - acc: 0.5565 - val_loss: 1.1754 - val_acc: 0.6000\n",
      "Epoch 9/25\n",
      "164/164 [==============================] - 29s 178ms/step - loss: 1.2394 - acc: 0.5605 - val_loss: 1.1569 - val_acc: 0.5990\n",
      "Epoch 10/25\n",
      "164/164 [==============================] - 29s 177ms/step - loss: 1.2273 - acc: 0.5672 - val_loss: 1.1608 - val_acc: 0.6030\n",
      "Epoch 11/25\n",
      " 12/164 [=>............................] - ETA: 25s - loss: 1.2000 - acc: 0.5772164/164 [==============================] - 29s 178ms/step - loss: 1.2130 - acc: 0.5730 - val_loss: 1.1995 - val_acc: 0.5810\n",
      "Epoch 12/25\n",
      "164/164 [==============================] - 29s 178ms/step - loss: 1.2030 - acc: 0.5723 - val_loss: 1.1168 - val_acc: 0.6120\n",
      "Epoch 13/25\n",
      "148/164 [==========================>...] - ETA: 2s - loss: 1.1926 - acc: 0.5809164/164 [==============================] - 29s 178ms/step - loss: 1.1882 - acc: 0.5815 - val_loss: 1.1527 - val_acc: 0.6030\n",
      "Epoch 14/25\n",
      "164/164 [==============================] - 29s 177ms/step - loss: 1.1777 - acc: 0.5841 - val_loss: 1.1476 - val_acc: 0.6160\n",
      "Epoch 15/25\n",
      "164/164 [==============================] - 29s 177ms/step - loss: 1.1683 - acc: 0.5869 - val_loss: 1.0911 - val_acc: 0.6290\n",
      "Epoch 16/25\n",
      " 11/164 [=>............................] - ETA: 26s - loss: 1.1676 - acc: 0.5870164/164 [==============================] - 29s 178ms/step - loss: 1.1595 - acc: 0.5913 - val_loss: 1.1407 - val_acc: 0.6150\n",
      "Epoch 17/25\n",
      "164/164 [==============================] - 29s 178ms/step - loss: 1.1487 - acc: 0.5957 - val_loss: 1.1737 - val_acc: 0.6200\n",
      "Epoch 18/25\n",
      "148/164 [==========================>...] - ETA: 2s - loss: 1.1436 - acc: 0.5968164/164 [==============================] - 29s 177ms/step - loss: 1.1406 - acc: 0.5982 - val_loss: 1.1393 - val_acc: 0.6280\n",
      "Epoch 19/25\n",
      "164/164 [==============================] - 29s 177ms/step - loss: 1.1302 - acc: 0.6002 - val_loss: 1.1199 - val_acc: 0.6200\n",
      "Epoch 20/25\n",
      "164/164 [==============================] - 29s 180ms/step - loss: 1.1229 - acc: 0.6036 - val_loss: 1.1492 - val_acc: 0.6280\n",
      "Epoch 21/25\n",
      " 11/164 [=>............................] - ETA: 26s - loss: 1.0840 - acc: 0.6191164/164 [==============================] - 30s 180ms/step - loss: 1.1181 - acc: 0.6069 - val_loss: 1.0563 - val_acc: 0.6480\n",
      "Epoch 22/25\n",
      "164/164 [==============================] - 30s 181ms/step - loss: 1.1104 - acc: 0.6117 - val_loss: 1.0554 - val_acc: 0.6480\n",
      "Epoch 23/25\n",
      "148/164 [==========================>...] - ETA: 2s - loss: 1.0997 - acc: 0.6122164/164 [==============================] - 30s 180ms/step - loss: 1.0979 - acc: 0.6127 - val_loss: 1.1356 - val_acc: 0.6360\n",
      "Epoch 24/25\n",
      "164/164 [==============================] - 30s 181ms/step - loss: 1.0966 - acc: 0.6135 - val_loss: 1.0929 - val_acc: 0.6370\n",
      "Epoch 25/25\n",
      "164/164 [==============================] - 30s 180ms/step - loss: 1.0890 - acc: 0.6176 - val_loss: 1.1154 - val_acc: 0.6490\n",
      "1000/1000 [==============================] - 0s 373us/step\n"
     ]
    }
   ],
   "source": [
    "opt = keras.optimizers.rmsprop(lr=0.0001,decay=1e-6)\n",
    "model.compile(loss='categorical_crossentropy', optimizer=opt, metrics = ['accuracy'])\n",
    "datagen = ImageDataGenerator(\n",
    "        featurewise_center=False,  # set input mean to 0 over the dataset\n",
    "        samplewise_center=False,  # set each sample mean to 0\n",
    "        featurewise_std_normalization=False,  # divide inputs by std of the dataset\n",
    "        samplewise_std_normalization=False,  # divide each input by its std\n",
    "        zca_whitening=False,  # apply ZCA whitening\n",
    "        rotation_range=0,  # randomly rotate images in the range (degrees, 0 to 180)\n",
    "        width_shift_range=0.1,  # randomly shift images horizontally (fraction of total width)\n",
    "        height_shift_range=0.1,  # randomly shift images vertically (fraction of total height)\n",
    "        horizontal_flip=True,  # randomly flip images\n",
    "        vertical_flip=False)  # randomly flip images\n",
    "\n",
    "# Compute quantities required for feature-wise normalization\n",
    "# (std, mean, and principal components if ZCA whitening is applied).\n",
    "datagen.fit(x_train)\n",
    "model.fit_generator(datagen.flow(x_train, y_train,batch_size=300), epochs=25, validation_data=(x_val,y_val))\n",
    "score = model.evaluate(x_test, y_test, batch_size=32)\n",
    "send_msg(\"done\"+(str)(score))"
   ]
  },
  {
   "cell_type": "code",
   "execution_count": 0,
   "metadata": {
    "colab": {
     "autoexec": {
      "startup": false,
      "wait_interval": 0
     }
    },
    "colab_type": "code",
    "collapsed": true,
    "id": "BdqO_oTcc6kM"
   },
   "outputs": [],
   "source": [
    "model.save_weights('temp.h5')"
   ]
  },
  {
   "cell_type": "code",
   "execution_count": 44,
   "metadata": {
    "colab": {
     "autoexec": {
      "startup": false,
      "wait_interval": 0
     },
     "base_uri": "https://localhost:8080/",
     "height": 714,
     "output_extras": [
      {
       "item_id": 324
      },
      {
       "item_id": 587
      },
      {
       "item_id": 918
      },
      {
       "item_id": 1165
      },
      {
       "item_id": 1487
      },
      {
       "item_id": 1736
      },
      {
       "item_id": 2060
      },
      {
       "item_id": 2301
      }
     ]
    },
    "colab_type": "code",
    "executionInfo": {
     "elapsed": 593638,
     "status": "ok",
     "timestamp": 1521924562940,
     "user": {
      "displayName": "Conghua Qiu",
      "photoUrl": "https://lh3.googleusercontent.com/a/default-user=s128",
      "userId": "112091674857321609604"
     },
     "user_tz": 300
    },
    "id": "oHrCVB86dVq6",
    "outputId": "310f224d-b97d-4ab2-f6c8-7d80e28eb954"
   },
   "outputs": [
    {
     "name": "stdout",
     "output_type": "stream",
     "text": [
      "Epoch 1/20\n",
      "164/164 [==============================] - 31s 187ms/step - loss: 1.0435 - acc: 0.6324 - val_loss: 1.0702 - val_acc: 0.6530\n",
      "Epoch 2/20\n",
      "164/164 [==============================] - 29s 179ms/step - loss: 1.0374 - acc: 0.6335 - val_loss: 1.0769 - val_acc: 0.6560\n",
      "Epoch 3/20\n",
      "132/164 [=======================>......] - ETA: 5s - loss: 1.0396 - acc: 0.6333164/164 [==============================] - 30s 181ms/step - loss: 1.0371 - acc: 0.6343 - val_loss: 1.0756 - val_acc: 0.6590\n",
      "Epoch 4/20\n",
      "164/164 [==============================] - 30s 181ms/step - loss: 1.0347 - acc: 0.6346 - val_loss: 1.1022 - val_acc: 0.6520\n",
      "Epoch 5/20\n",
      "164/164 [==============================] - 30s 180ms/step - loss: 1.0312 - acc: 0.6362 - val_loss: 1.0834 - val_acc: 0.6610\n",
      "Epoch 6/20\n",
      "  9/164 [>.............................] - ETA: 27s - loss: 1.0748 - acc: 0.6152164/164 [==============================] - 30s 180ms/step - loss: 1.0297 - acc: 0.6360 - val_loss: 1.1056 - val_acc: 0.6570\n",
      "Epoch 7/20\n",
      "164/164 [==============================] - 30s 180ms/step - loss: 1.0306 - acc: 0.6354 - val_loss: 1.0950 - val_acc: 0.6560\n",
      "Epoch 8/20\n",
      "149/164 [==========================>...] - ETA: 2s - loss: 1.0242 - acc: 0.6395164/164 [==============================] - 29s 179ms/step - loss: 1.0239 - acc: 0.6388 - val_loss: 1.0835 - val_acc: 0.6590\n",
      "Epoch 9/20\n",
      "164/164 [==============================] - 29s 178ms/step - loss: 1.0263 - acc: 0.6377 - val_loss: 1.0812 - val_acc: 0.6610\n",
      "Epoch 10/20\n",
      "164/164 [==============================] - 29s 178ms/step - loss: 1.0241 - acc: 0.6383 - val_loss: 1.0957 - val_acc: 0.6570\n",
      "Epoch 11/20\n",
      " 12/164 [=>............................] - ETA: 25s - loss: 0.9895 - acc: 0.6564164/164 [==============================] - 29s 178ms/step - loss: 1.0171 - acc: 0.6404 - val_loss: 1.0920 - val_acc: 0.6580\n",
      "Epoch 12/20\n",
      "164/164 [==============================] - 29s 178ms/step - loss: 1.0214 - acc: 0.6400 - val_loss: 1.1053 - val_acc: 0.6550\n",
      "Epoch 13/20\n",
      "148/164 [==========================>...] - ETA: 2s - loss: 1.0194 - acc: 0.6429164/164 [==============================] - 29s 180ms/step - loss: 1.0190 - acc: 0.6423 - val_loss: 1.0779 - val_acc: 0.6620\n",
      "Epoch 14/20\n",
      "164/164 [==============================] - 30s 181ms/step - loss: 1.0194 - acc: 0.6433 - val_loss: 1.1006 - val_acc: 0.6580\n",
      "Epoch 15/20\n",
      "164/164 [==============================] - 30s 180ms/step - loss: 1.0156 - acc: 0.6427 - val_loss: 1.1072 - val_acc: 0.6600\n",
      "Epoch 16/20\n",
      " 11/164 [=>............................] - ETA: 25s - loss: 1.0433 - acc: 0.6397164/164 [==============================] - 30s 180ms/step - loss: 1.0178 - acc: 0.6423 - val_loss: 1.1081 - val_acc: 0.6530\n",
      "Epoch 17/20\n",
      "164/164 [==============================] - 30s 181ms/step - loss: 1.0135 - acc: 0.6427 - val_loss: 1.0929 - val_acc: 0.6610\n",
      "Epoch 18/20\n",
      "148/164 [==========================>...] - ETA: 2s - loss: 1.0200 - acc: 0.6407164/164 [==============================] - 30s 181ms/step - loss: 1.0167 - acc: 0.6423 - val_loss: 1.0896 - val_acc: 0.6540\n",
      "Epoch 19/20\n",
      "164/164 [==============================] - 30s 181ms/step - loss: 1.0118 - acc: 0.6438 - val_loss: 1.1129 - val_acc: 0.6550\n",
      "Epoch 20/20\n",
      "164/164 [==============================] - 30s 181ms/step - loss: 1.0082 - acc: 0.6447 - val_loss: 1.0863 - val_acc: 0.6590\n",
      "1000/1000 [==============================] - 0s 376us/step\n"
     ]
    }
   ],
   "source": [
    "# manually decay the learning rate after the loss function reach a plateau. \n",
    "opt = keras.optimizers.rmsprop(lr=0.00001,decay=1e-6)\n",
    "model.compile(loss='categorical_crossentropy', optimizer=opt, metrics = ['accuracy'])\n",
    "datagen = ImageDataGenerator(\n",
    "        featurewise_center=False,  # set input mean to 0 over the dataset\n",
    "        samplewise_center=False,  # set each sample mean to 0\n",
    "        featurewise_std_normalization=False,  # divide inputs by std of the dataset\n",
    "        samplewise_std_normalization=False,  # divide each input by its std\n",
    "        zca_whitening=False,  # apply ZCA whitening\n",
    "        rotation_range=0,  # randomly rotate images in the range (degrees, 0 to 180)\n",
    "        width_shift_range=0.1,  # randomly shift images horizontally (fraction of total width)\n",
    "        height_shift_range=0.1,  # randomly shift images vertically (fraction of total height)\n",
    "        horizontal_flip=True,  # randomly flip images\n",
    "        vertical_flip=False)  # randomly flip images\n",
    "\n",
    "# Compute quantities required for feature-wise normalization\n",
    "# (std, mean, and principal components if ZCA whitening is applied).\n",
    "datagen.fit(x_train)\n",
    "model.fit_generator(datagen.flow(x_train, y_train,batch_size=300), epochs=20, validation_data=(x_val,y_val))\n",
    "score = model.evaluate(x_test, y_test, batch_size=32)\n",
    "send_msg(\"done\"+(str)(score))"
   ]
  },
  {
   "cell_type": "code",
   "execution_count": 45,
   "metadata": {
    "colab": {
     "autoexec": {
      "startup": false,
      "wait_interval": 0
     },
     "base_uri": "https://localhost:8080/",
     "height": 204,
     "output_extras": [
      {
       "item_id": 327
      },
      {
       "item_id": 583
      }
     ]
    },
    "colab_type": "code",
    "executionInfo": {
     "elapsed": 151404,
     "status": "ok",
     "timestamp": 1521924718236,
     "user": {
      "displayName": "Conghua Qiu",
      "photoUrl": "https://lh3.googleusercontent.com/a/default-user=s128",
      "userId": "112091674857321609604"
     },
     "user_tz": 300
    },
    "id": "x-K78lGJdkqa",
    "outputId": "f9fa15be-b45b-48f5-8165-6ab167dc6b9a"
   },
   "outputs": [
    {
     "name": "stdout",
     "output_type": "stream",
     "text": [
      "Epoch 1/5\n",
      "164/164 [==============================] - 31s 189ms/step - loss: 1.0081 - acc: 0.6442 - val_loss: 1.0970 - val_acc: 0.6560\n",
      "Epoch 2/5\n",
      "164/164 [==============================] - 29s 179ms/step - loss: 1.0029 - acc: 0.6448 - val_loss: 1.0933 - val_acc: 0.6600\n",
      "Epoch 3/5\n",
      "135/164 [=======================>......] - ETA: 5s - loss: 1.0097 - acc: 0.6467164/164 [==============================] - 30s 181ms/step - loss: 1.0090 - acc: 0.6472 - val_loss: 1.0945 - val_acc: 0.6620\n",
      "Epoch 4/5\n",
      "164/164 [==============================] - 30s 180ms/step - loss: 1.0053 - acc: 0.6440 - val_loss: 1.0948 - val_acc: 0.6620\n",
      "Epoch 5/5\n",
      "164/164 [==============================] - 30s 181ms/step - loss: 1.0063 - acc: 0.6460 - val_loss: 1.0928 - val_acc: 0.6600\n",
      "1000/1000 [==============================] - 0s 365us/step\n"
     ]
    }
   ],
   "source": [
    "# manually decay the learning rate after the loss function reach a plateau. \n",
    "opt = keras.optimizers.rmsprop(lr=0.000001,decay=1e-6)\n",
    "model.compile(loss='categorical_crossentropy', optimizer=opt, metrics = ['accuracy'])\n",
    "datagen = ImageDataGenerator(\n",
    "        featurewise_center=False,  # set input mean to 0 over the dataset\n",
    "        samplewise_center=False,  # set each sample mean to 0\n",
    "        featurewise_std_normalization=False,  # divide inputs by std of the dataset\n",
    "        samplewise_std_normalization=False,  # divide each input by its std\n",
    "        zca_whitening=False,  # apply ZCA whitening\n",
    "        rotation_range=0,  # randomly rotate images in the range (degrees, 0 to 180)\n",
    "        width_shift_range=0.1,  # randomly shift images horizontally (fraction of total width)\n",
    "        height_shift_range=0.1,  # randomly shift images vertically (fraction of total height)\n",
    "        horizontal_flip=True,  # randomly flip images\n",
    "        vertical_flip=False)  # randomly flip images\n",
    "\n",
    "# Compute quantities required for feature-wise normalization\n",
    "# (std, mean, and principal components if ZCA whitening is applied).\n",
    "datagen.fit(x_train)\n",
    "model.fit_generator(datagen.flow(x_train, y_train,batch_size=300), epochs=5, validation_data=(x_val,y_val))\n",
    "score = model.evaluate(x_test, y_test, batch_size=32)\n",
    "send_msg(\"done\"+(str)(score))"
   ]
  },
  {
   "cell_type": "code",
   "execution_count": 46,
   "metadata": {
    "colab": {
     "autoexec": {
      "startup": false,
      "wait_interval": 0
     },
     "base_uri": "https://localhost:8080/",
     "height": 34,
     "output_extras": [
      {
       "item_id": 1
      }
     ]
    },
    "colab_type": "code",
    "executionInfo": {
     "elapsed": 191,
     "status": "ok",
     "timestamp": 1521924809607,
     "user": {
      "displayName": "Conghua Qiu",
      "photoUrl": "https://lh3.googleusercontent.com/a/default-user=s128",
      "userId": "112091674857321609604"
     },
     "user_tz": 300
    },
    "id": "6ziP50V-lJE0",
    "outputId": "04e799de-f8eb-41b4-9066-e2c9d7e31b21"
   },
   "outputs": [
    {
     "data": {
      "text/plain": [
       "[1.0319674849510192, 0.659]"
      ]
     },
     "execution_count": 46,
     "metadata": {
      "tags": []
     },
     "output_type": "execute_result"
    }
   ],
   "source": [
    "score"
   ]
  },
  {
   "cell_type": "code",
   "execution_count": 0,
   "metadata": {
    "colab": {
     "autoexec": {
      "startup": false,
      "wait_interval": 0
     }
    },
    "colab_type": "code",
    "collapsed": true,
    "id": "BpdSO_IDyaKL"
   },
   "outputs": [],
   "source": []
  }
 ],
 "metadata": {
  "accelerator": "GPU",
  "colab": {
   "collapsed_sections": [],
   "default_view": {},
   "name": "h5_extra.ipynb",
   "provenance": [],
   "version": "0.3.2",
   "views": {}
  },
  "kernelspec": {
   "display_name": "Python 3",
   "language": "python",
   "name": "python3"
  },
  "language_info": {
   "codemirror_mode": {
    "name": "ipython",
    "version": 3
   },
   "file_extension": ".py",
   "mimetype": "text/x-python",
   "name": "python",
   "nbconvert_exporter": "python",
   "pygments_lexer": "ipython3",
   "version": "3.6.3"
  }
 },
 "nbformat": 4,
 "nbformat_minor": 1
}
